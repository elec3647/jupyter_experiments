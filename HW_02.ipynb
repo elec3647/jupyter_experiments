{
 "cells": [
  {
   "cell_type": "code",
   "execution_count": 1,
   "metadata": {},
   "outputs": [
    {
     "ename": "TypeError",
     "evalue": "'encoding' is an invalid keyword argument for this function",
     "output_type": "error",
     "traceback": [
      "\u001b[0;31m---------------------------------------------------------------------------\u001b[0m",
      "\u001b[0;31mTypeError\u001b[0m                                 Traceback (most recent call last)",
      "\u001b[0;32m<ipython-input-1-221e001c8c71>\u001b[0m in \u001b[0;36m<module>\u001b[0;34m()\u001b[0m\n\u001b[1;32m      4\u001b[0m \u001b[0;31m# this link is to my Kalman filter book CSS file.\u001b[0m\u001b[0;34m\u001b[0m\u001b[0;34m\u001b[0m\u001b[0m\n\u001b[1;32m      5\u001b[0m \u001b[0;31m#response = requests.get('https://raw.githubusercontent.com/rlabbe/Kalman-and-Bayesian-Filters-in-Python/master/kf_book/custom.css')\u001b[0m\u001b[0;34m\u001b[0m\u001b[0;34m\u001b[0m\u001b[0m\n\u001b[0;32m----> 6\u001b[0;31m \u001b[0mf\u001b[0m \u001b[0;34m=\u001b[0m \u001b[0mopen\u001b[0m\u001b[0;34m(\u001b[0m\u001b[0;34m'night.css'\u001b[0m\u001b[0;34m,\u001b[0m \u001b[0mencoding\u001b[0m\u001b[0;34m=\u001b[0m\u001b[0;34m\"utf-8\"\u001b[0m\u001b[0;34m)\u001b[0m\u001b[0;34m\u001b[0m\u001b[0m\n\u001b[0m\u001b[1;32m      7\u001b[0m \u001b[0;31m#with open('night.css', encoding='utf-8') as fh:\u001b[0m\u001b[0;34m\u001b[0m\u001b[0;34m\u001b[0m\u001b[0m\n\u001b[1;32m      8\u001b[0m \u001b[0mstyle\u001b[0m \u001b[0;34m=\u001b[0m \u001b[0mf\u001b[0m\u001b[0;34m.\u001b[0m\u001b[0mread\u001b[0m\u001b[0;34m(\u001b[0m\u001b[0;34m)\u001b[0m\u001b[0;34m\u001b[0m\u001b[0m\n",
      "\u001b[0;31mTypeError\u001b[0m: 'encoding' is an invalid keyword argument for this function"
     ]
    }
   ],
   "source": [
    "# style the notebook\n",
    "from IPython.core.display import HTML\n",
    "#import requests\n",
    "# this link is to my Kalman filter book CSS file.\n",
    "#response = requests.get('https://raw.githubusercontent.com/rlabbe/Kalman-and-Bayesian-Filters-in-Python/master/kf_book/custom.css')\n",
    "f = open('night.css', encoding=\"utf-8\")\n",
    "#with open('night.css', encoding='utf-8') as fh:\n",
    "style = f.read()\n",
    "HTML(style)"
   ]
  },
  {
   "cell_type": "markdown",
   "metadata": {},
   "source": [
    "# HW 2\n",
    "## ELEC 5530 / 6530 Mobile Robots\n",
    "Assigned Tues. 5/29   Due Thurs. 5/31\n",
    "\n",
    "1. There is considerable interest in robots that fly (UAV’s).  One good reference for flight calculations is Tennekes, Hendrik,  The Simple Science of Flight: From Insects to Jumbo Jets, MIT Press 2009. Chapter 1 from this book is included in the literature page on Canvas.\n",
    "\n",
    "Using Eq. 1 or Eq. 2 as appropriate from this reference, along with standard atmospheric data as needed, answer the following:\n",
    "\n",
    "    1. If you want to build a 16-oz. UAV that flies close to the ground at 20 mph, what must be the wing surface area? What natural creature (s) would this be close to on the Great Flight Diagram (Figure 2 in Tenneke, also reproduced in our textbook)?\n",
    "\n",
    "    2. Calculate the wing surface area needed if the same UAV is to fly at an altitude of 10,000 feet.\n",
    "\n",
    "2.  Do some light reading / video watching so you can write up a succinct explanation of how a quadrotor can be made to\n",
    "    1. Change altitude\n",
    "    2. Move in a desired horizontal direction without changing altitude. Include diagram(s) as necessary.\n"
   ]
  },
  {
   "cell_type": "markdown",
   "metadata": {},
   "source": [
    "## Source\n",
    "From [The Simple Science of Flight: From Insects to Jumbo Jets](https://mitpress.mit.edu/books/simple-science-flight) by [Henk Tennekes](https://en.wikipedia.org/wiki/Hendrik_Tennekes), the following equation and a table defining what each variable means is given:\n",
    "\n",
    "### Equations Given:\n",
    "| Variable | Definition                   |\n",
    "| -------- | ---------------------------- |\n",
    "| $W$      | Weight (kg$\\cdot$ m/s$^{2}$) |\n",
    "| $S$      | Wing Area (m$^{2}$)          |\n",
    "| $V$      | Velocity (m/s)               |\n",
    "| $\\rho$   | Density (kg/m$^{3}$)         |\n",
    "\n",
    "\n",
    "<br><br>\n",
    "$$\n",
    "W = 0.3\\rho V^{2}S\n",
    "$$\n",
    "(The 0.3 is related to the angle of attack in long-distance flight, for which the average value of 6º has been adopted.)\n",
    "<br><br>\n",
    "$$\n",
    "W/S  = 0.38V^{2}\n",
    "$$\n",
    "\n",
    "\n",
    "\n"
   ]
  },
  {
   "cell_type": "code",
   "execution_count": null,
   "metadata": {},
   "outputs": [],
   "source": []
  }
 ],
 "metadata": {
  "kernelspec": {
   "display_name": "Python 3",
   "language": "python",
   "name": "python3"
  },
  "language_info": {
   "codemirror_mode": {
    "name": "ipython",
    "version": 2
   },
   "file_extension": ".py",
   "mimetype": "text/x-python",
   "name": "python",
   "nbconvert_exporter": "python",
   "pygments_lexer": "ipython2",
   "version": "2.7.15"
  }
 },
 "nbformat": 4,
 "nbformat_minor": 2
}
